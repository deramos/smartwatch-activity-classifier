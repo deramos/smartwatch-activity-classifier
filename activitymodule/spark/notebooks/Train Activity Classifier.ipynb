{
 "cells": [
  {
   "cell_type": "code",
   "execution_count": 1,
   "id": "151d52be",
   "metadata": {},
   "outputs": [],
   "source": [
    "import os\n",
    "from dotenv import load_dotenv\n",
    "from pyspark.sql import SparkSession\n",
    "from pyspark.ml.pipeline import Pipeline\n",
    "from pyspark.ml.feature import Tokenizer\n",
    "from pyspark.ml.feature import StringIndexer\n",
    "from pyspark.ml.feature import OneHotEncoder\n",
    "from pyspark.ml.feature import VectorIndexer\n",
    "from pyspark.ml.feature import VectorAssembler\n",
    "from pyspark.ml.classification import RandomForestClassifier\n",
    "\n",
    "from pyspark.sql.types import StructType, StructField, FloatType, StringType, TimestampType"
   ]
  },
  {
   "cell_type": "code",
   "execution_count": 2,
   "id": "8cc78a40",
   "metadata": {},
   "outputs": [
    {
     "data": {
      "text/plain": [
       "True"
      ]
     },
     "execution_count": 2,
     "metadata": {},
     "output_type": "execute_result"
    }
   ],
   "source": [
    "load_dotenv('../../.env')"
   ]
  },
  {
   "cell_type": "code",
   "execution_count": null,
   "id": "a2eedd84",
   "metadata": {},
   "outputs": [],
   "source": [
    "BUCKET_NAME = os.getenv('BUCKET')\n",
    "SOURCE_DIR = os.getenv('PROCESSED_PATH')\n",
    "DEST_PATH = os.getenv('PROCESSED_PATH')\n",
    "DB_NAME = os.getenv('DB_NAME')\n",
    "TABLE_NAME = os.getenv('TABLE_NAME')"
   ]
  },
  {
   "cell_type": "code",
   "execution_count": 3,
   "id": "a013973d",
   "metadata": {},
   "outputs": [],
   "source": [
    "spark = SparkSession.builder.appName(\"activity-classifier\").getOrCreate()"
   ]
  },
  {
   "cell_type": "code",
   "execution_count": 4,
   "id": "8d9c63f9",
   "metadata": {},
   "outputs": [],
   "source": [
    "# define data schema\n",
    "schema = StructType([\n",
    "    StructField(\"stamp\", TimestampType(), nullable=True),\n",
    "    StructField(\"yaw\", FloatType(), nullable=True),\n",
    "    StructField(\"pitch\", FloatType(), nullable=True),\n",
    "    StructField(\"roll\", FloatType(), nullable=True),\n",
    "    StructField(\"rotation_rate_x\", FloatType(), nullable=True),\n",
    "    StructField(\"rotation_rate_y\", FloatType(), nullable=True),\n",
    "    StructField(\"rotation_rate_z\", FloatType(), nullable=True),\n",
    "    StructField(\"user_acceleration_x\", FloatType(), nullable=True),\n",
    "    StructField(\"user_acceleration_y\", FloatType(), nullable=True),\n",
    "    StructField(\"user_acceleration_z\", FloatType(), nullable=True),\n",
    "    StructField(\"location_type\", StringType(), nullable=True),\n",
    "    StructField(\"latitude_distance_from_mean\", FloatType(), nullable=True),\n",
    "    StructField(\"longitude_distance_from_mean\", FloatType(), nullable=True),\n",
    "    StructField(\"altitude_distance_from_mean\", FloatType(), nullable=True),\n",
    "    StructField(\"course\", FloatType(), nullable=True),\n",
    "    StructField(\"speed\", FloatType(), nullable=True),\n",
    "    StructField(\"horizontal_accuracy\", FloatType(), nullable=True),\n",
    "    StructField(\"vertical_accuracy\", FloatType(), nullable=True),\n",
    "    StructField(\"battery_state\", StringType(), nullable=True),\n",
    "    StructField(\"user_activity_label\", StringType(), nullable=True),\n",
    "])"
   ]
  },
  {
   "cell_type": "code",
   "execution_count": null,
   "id": "01cc9c8d",
   "metadata": {},
   "outputs": [],
   "source": [
    "data = spark \\\n",
    "    .read \\\n",
    "    .option(\"mode\", \"DROPMALFORMED\") \\\n",
    "    .parquet(f\"{os.getenv}/{SOURCE_DIR}\")"
   ]
  },
  {
   "cell_type": "markdown",
   "id": "c35d1410",
   "metadata": {},
   "source": [
    "## Data Processing"
   ]
  },
  {
   "cell_type": "code",
   "execution_count": null,
   "id": "54981476",
   "metadata": {},
   "outputs": [],
   "source": [
    "string_cols = ['location_type', 'battery_state']"
   ]
  },
  {
   "cell_type": "code",
   "execution_count": null,
   "id": "d8181edf",
   "metadata": {},
   "outputs": [],
   "source": [
    "string_indexer = StringIndexer(inputCols=string_cols, outputCols=[s+'_indexed' for s in string_cols])"
   ]
  }
 ],
 "metadata": {
  "kernelspec": {
   "display_name": "Python 3",
   "language": "python",
   "name": "python3"
  },
  "language_info": {
   "codemirror_mode": {
    "name": "ipython",
    "version": 3
   },
   "file_extension": ".py",
   "mimetype": "text/x-python",
   "name": "python",
   "nbconvert_exporter": "python",
   "pygments_lexer": "ipython3",
   "version": "3.8.5"
  }
 },
 "nbformat": 4,
 "nbformat_minor": 5
}
